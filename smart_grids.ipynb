{
 "cells": [
  {
   "cell_type": "code",
   "execution_count": 2,
   "metadata": {
    "tags": []
   },
   "outputs": [],
   "source": [
    "# Setup\n",
    "# `jupyter nbextension enable --py --sys-prefix ipyvuetify`#\n",
    "# start: `voila .\\smart_grids.ipynb`\n",
    "# icons here https://vuetifyjs.com/en/features/icon-fonts/#material-design-icons\n"
   ]
  },
  {
   "cell_type": "code",
   "execution_count": 1,
   "metadata": {},
   "outputs": [
    {
     "name": "stdout",
     "output_type": "stream",
     "text": [
      "^C\n"
     ]
    }
   ],
   "source": [
    "!"
   ]
  },
  {
   "cell_type": "code",
   "execution_count": 3,
   "metadata": {},
   "outputs": [],
   "source": [
    "import json\n",
    "import pathlib\n",
    "\n",
    "import ipyvuetify as v\n",
    "import numpy as np\n",
    "import pandas as pd\n",
    "import plotly.graph_objects as go\n",
    "import requests\n",
    "from ipywidgets import jslink\n",
    "\n",
    "from util import get_photovoltaic_data, get_coordinates\n",
    "\n",
    "PTV_API_KEY = pathlib.Path(\"key.txt\").read_text()\n",
    "BATTERIES_FILE = \"batteries.json\"\n"
   ]
  },
  {
   "cell_type": "code",
   "execution_count": 4,
   "metadata": {},
   "outputs": [],
   "source": [
    "def get_data_fig(output):\n",
    "    return go.Figure(\n",
    "        data=[go.Bar(x=[o[\"time\"] for o in output], y=[o[\"G(i)\"] for o in output])],\n",
    "        layout_title_text=\"A Figure Displaying Itself\",\n",
    "    )\n",
    "\n",
    "\n",
    "# {'time': '20150101:0010', 'G(i)': 0.0, 'H_sun': 0.0, 'T2m': -9.23, 'WS10m': 0.5, 'Int': 0.0}\n",
    "# G(i): Global irradiance on the inclined plane (plane of the array) (W/m2)\n",
    "# H_sun: Sun height (degree)\n",
    "# T2m: 2-m air temperature (degree Celsius)\n",
    "# WS10m: 10-m total wind speed (m/s)\n",
    "# Int: 1 means solar radiation values are reconstructed\n"
   ]
  },
  {
   "cell_type": "code",
   "execution_count": 147,
   "metadata": {},
   "outputs": [
    {
     "data": {
      "application/vnd.jupyter.widget-view+json": {
       "model_id": "7bc28552685f4f70a11740eea66157d0",
       "version_major": 2,
       "version_minor": 0
      },
      "text/plain": [
       "Container(children=[Card(children=[Row(children=[Subheader(children=['Address'])]), Row(children=[Col(children…"
      ]
     },
     "metadata": {},
     "output_type": "display_data"
    }
   ],
   "source": [
    "# Address\n",
    "address_title = v.Subheader(children=[\"Address\"])\n",
    "\n",
    "country = v.TextField(label=\"Land\", v_model=\"\", disabled=True)\n",
    "city = v.TextField(label=\"Stadt\", v_model=\"\", disabled=True)\n",
    "latitude = v.TextField(label=\"Latitude\", v_model=\"\", disabled=True)\n",
    "longitude = v.TextField(label=\"Longitude\", v_model=\"\", disabled=True)\n",
    "address_row = v.Col(\n",
    "    children=[\n",
    "        v.Row(children=[country]),\n",
    "        v.Row(children=[city]),\n",
    "        v.Row(children=[latitude]),\n",
    "        v.Row(children=[longitude]),\n",
    "    ],\n",
    ")\n",
    "\n",
    "search_address_text_field = v.TextField(\n",
    "    label=\"Adresse\", v_model=\"\", prepend_inner_icon=\"mdi-map-marker\"\n",
    ")\n",
    "\n",
    "\n",
    "def get_address(widget, event, data):\n",
    "    address_card.loading = True\n",
    "    coordinates = get_coordinates.get_coordinates(PTV_API_KEY, widget.v_model)\n",
    "    country.v_model = coordinates[\"country\"]\n",
    "    city.v_model = coordinates[\"city\"]\n",
    "    latitude.v_model = coordinates[\"latitude\"]\n",
    "    longitude.v_model = coordinates[\"longitude\"]\n",
    "    address_card.loading = False\n",
    "search_address_text_field.on_event(\"change\", get_address)\n",
    "\n",
    "address_card = v.Card(\n",
    "    loading=False,\n",
    "    elevation=0,\n",
    "    children=[\n",
    "        v.Row(children=[address_title]),\n",
    "        v.Row(\n",
    "            children=[\n",
    "                v.Col(cols=7,\n",
    "                    children=[search_address_text_field],\n",
    "                ),\n",
    "                v.Col(cols=5,\n",
    "                    children=[address_row],\n",
    "                ),\n",
    "            ]\n",
    "        ),\n",
    "    ],\n",
    ")\n",
    "v.Container(children=[address_card, v.Divider()])\n",
    "\n",
    "# get photovoltaic data\n",
    "# data = get_photovoltaic_data(coordinates[\"latitude\"],coordinates[\"longitude\"])\n",
    "# data_text.v_model = (\n",
    "#     f'{data}'\n",
    "# )\n"
   ]
  },
  {
   "cell_type": "code",
   "execution_count": 146,
   "metadata": {},
   "outputs": [
    {
     "data": {
      "application/vnd.jupyter.widget-view+json": {
       "model_id": "e52d570a1bb04aac9e65703a1970e0bf",
       "version_major": 2,
       "version_minor": 0
      },
      "text/plain": [
       "Container(children=[Card(children=[Row(children=[Subheader(children=['Battery'])]), Row(children=[Col(children…"
      ]
     },
     "metadata": {},
     "output_type": "display_data"
    }
   ],
   "source": [
    "# Battery\n",
    "battery_df = pd.read_json(BATTERIES_FILE).set_index(\"id\").sort_values(\"efficiency_rank\")\n",
    "battery_names = list(battery_df[\"name\"])\n",
    "# battery_df.head(2)\n",
    "\n",
    "battery_title = v.Subheader(children=[\"Battery\"])\n",
    "\n",
    "battery_ranking = v.TextField(label=\"Efficiency ranking\", v_model=\"\", disabled=True)\n",
    "battery_type = v.TextField(label=\"Type\", v_model=\"\", disabled=True)\n",
    "battery_capacity = v.TextField(label=\"Capacity\", v_model=\"\", disabled=True)\n",
    "battery_average_efficiency = v.TextField(\n",
    "    label=\"Average efficiency\", v_model=\"\", disabled=True\n",
    ")\n",
    "\n",
    "battery_row = v.Col(\n",
    "    children=[\n",
    "        v.Row(children=[battery_ranking]),\n",
    "        v.Row(children=[battery_type]),\n",
    "        v.Row(children=[battery_capacity]),\n",
    "        v.Row(children=[battery_average_efficiency]),\n",
    "    ],\n",
    ")\n",
    "battery_select = v.Select(\n",
    "    label=\"Battery\", v_model=battery_names[0], items=battery_names\n",
    ")\n",
    "\n",
    "\n",
    "def battery_change(widget, event, data):\n",
    "    battery_card.loading = True\n",
    "    battery = battery_df.loc[battery_df[\"name\"] == widget.v_model]\n",
    "    battery_ranking.v_model = str(battery[\"efficiency_rank\"].values[0])\n",
    "    battery_type.v_model = str(battery[\"type\"].values[0])\n",
    "    battery_capacity.v_model = str(battery[\"capacity\"].values[0])\n",
    "    battery_average_efficiency.v_model = str(battery[\"average_efficiency\"].values[0])\n",
    "    battery_card.loading = False\n",
    "\n",
    "\n",
    "battery_select.on_event(\"change\", battery_change)\n",
    "\n",
    "battery_card = v.Card(\n",
    "    loading=False,\n",
    "    elevation=0,\n",
    "    children=[\n",
    "        v.Row(children=[battery_title]),\n",
    "        v.Row(\n",
    "            children=[\n",
    "                v.Col(cols = 7,\n",
    "                    children=[battery_select],\n",
    "                ),\n",
    "                v.Col(cols=5,\n",
    "                    children=[battery_row],\n",
    "                ),\n",
    "            ]\n",
    "        ),\n",
    "    ],\n",
    ")\n",
    "v.Container(children=[battery_card,v.Divider()])\n",
    "# get photovoltaic data\n",
    "# data = get_photovoltaic_data(coordinates[\"latitude\"],coordinates[\"longitude\"])\n",
    "# data_text.v_model = (\n",
    "#     f'{data}'\n",
    "# )\n"
   ]
  },
  {
   "cell_type": "code",
   "execution_count": 120,
   "metadata": {},
   "outputs": [
    {
     "data": {
      "application/vnd.jupyter.widget-view+json": {
       "model_id": "190c5e6db1834568b5282a6bbfd61177",
       "version_major": 2,
       "version_minor": 0
      },
      "text/plain": [
       "Container(children=[Card(children=[Row(children=[Subheader(children=['Photovoltaic'])]), Row(children=[Col(chi…"
      ]
     },
     "metadata": {},
     "output_type": "display_data"
    }
   ],
   "source": [
    "# PV\n",
    "pv_title = v.Subheader(children=[\"Photovoltaic\"])\n",
    "\n",
    "pv_peak_power = v.TextField(\n",
    "    label=\"Installed peak power in Wp\",\n",
    "    reverse=True,\n",
    "    type=\"number\",\n",
    "    v_model=\"1000\",\n",
    ")\n",
    "pv_slope = v.Slider(v_model=45, max=90, min=0)\n",
    "pv_slope_text = v.TextField(\n",
    "    label=\"Slope in °\",\n",
    "    v_model=\"\",\n",
    "    type=\"number\",\n",
    "    reverse=True,\n",
    "    style_=\"text_align:right;\",\n",
    ")\n",
    "jslink((pv_slope, \"v_model\"), (pv_slope_text, \"v_model\"))\n",
    "\n",
    "pv_azimuth = v.Slider(\n",
    "    v_model=180,\n",
    "    max=359,\n",
    "    min=0,\n",
    ")\n",
    "pv_azimuth_text = v.TextField(\n",
    "    label=\"Azimuth in °\", v_model=\"\", type=\"number\", reverse=True\n",
    ")\n",
    "jslink((pv_azimuth, \"v_model\"), (pv_azimuth_text, \"v_model\"))\n",
    "\n",
    "pv_card = v.Card(\n",
    "    elevation=0,\n",
    "    children=[\n",
    "        v.Row(children=[pv_title]),\n",
    "        v.Row(children=[v.Col(cols=3, children=[pv_peak_power]), v.Col(cols=9)]),\n",
    "        v.Row(\n",
    "            children=[\n",
    "                v.Col(cols=3, children=[pv_slope_text]),\n",
    "                v.Col(cols=9, children=[pv_slope]),\n",
    "            ]\n",
    "        ),\n",
    "        v.Row(\n",
    "            children=[\n",
    "                v.Col(cols=3, children=[pv_azimuth_text]),\n",
    "                v.Col(cols=9, children=[pv_azimuth]),\n",
    "            ]\n",
    "        ),\n",
    "    ],\n",
    ")\n",
    "v.Container(children=[pv_card, v.Divider()])\n"
   ]
  },
  {
   "cell_type": "code",
   "execution_count": 142,
   "metadata": {},
   "outputs": [
    {
     "data": {
      "application/vnd.jupyter.widget-view+json": {
       "model_id": "9cef546f8b8349e982a447c55777f9a5",
       "version_major": 2,
       "version_minor": 0
      },
      "text/plain": [
       "Container(children=[Row(children=[Card(children=[Row(children=[Subheader(children=['Consumption'])])])]), Row(…"
      ]
     },
     "metadata": {},
     "output_type": "display_data"
    }
   ],
   "source": [
    "# Consumption\n",
    "consumption_title = v.Subheader(children=[\"Consumption\"])\n",
    "consumer_name = v.TextField(label=\"Name\", v_model=\"\")\n",
    "consumer_usage = v.TextField(label=\"Usage\", v_model=\"\")\n",
    "consumer_create_btn = v.Btn(children=[v.Icon(children=[\"mdi-plus\"])])\n",
    "consumer_row = v.Row(\n",
    "    children=[v.Col(children=[consumer_name]), v.Col(children=[consumer_usage]), v.Col(children=[consumer_create_btn])],\n",
    ")\n",
    "consumer_list = [v.TextField(label=\"name\")]\n",
    "\n",
    "consumption_card = v.Card(\n",
    "    children=[v.Row(children=[consumption_title])],\n",
    ")\n",
    "v.Container(\n",
    "    children=[\n",
    "        v.Row(children=[consumption_card]),\n",
    "        consumer_row,\n",
    "    ]\n",
    ")\n"
   ]
  },
  {
   "cell_type": "code",
   "execution_count": null,
   "metadata": {},
   "outputs": [],
   "source": []
  }
 ],
 "metadata": {
  "interpreter": {
   "hash": "26de051ba29f2982a8de78e945f0abaf191376122a1563185a90213a26c5da77"
  },
  "kernelspec": {
   "display_name": "Python 3 (ipykernel)",
   "language": "python",
   "name": "python3"
  },
  "language_info": {
   "codemirror_mode": {
    "name": "ipython",
    "version": 3
   },
   "file_extension": ".py",
   "mimetype": "text/x-python",
   "name": "python",
   "nbconvert_exporter": "python",
   "pygments_lexer": "ipython3",
   "version": "3.10.5"
  }
 },
 "nbformat": 4,
 "nbformat_minor": 4
}
