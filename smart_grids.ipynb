{
 "cells": [
  {
   "cell_type": "code",
   "execution_count": 1,
   "metadata": {
    "tags": []
   },
   "outputs": [],
   "source": [
    "# Setup\n",
    "# `jupyter nbextension enable --py --sys-prefix ipyvuetify`"
   ]
  },
  {
   "cell_type": "code",
   "execution_count": 2,
   "metadata": {},
   "outputs": [],
   "source": [
    "import requests\n",
    "import json\n",
    "import pathlib\n",
    "\n",
    "import plotly.graph_objects as go\n",
    "import ipyvuetify as v\n",
    "from ipywidgets import jslink\n",
    "\n",
    "\n",
    "PTV_API = pathlib.Path(\"key.txt\").read_text()\n"
   ]
  },
  {
   "cell_type": "code",
   "execution_count": 3,
   "metadata": {},
   "outputs": [],
   "source": [
    "def get_coordinates(place_query):\n",
    "    response = requests.get(\n",
    "        f\"https://api.myptv.com/geocoding/v1/locations/by-text?searchText={place_query}&apiKey={PTV_API}\"\n",
    "    )\n",
    "    location = response.json()[\"locations\"][0]\n",
    "    return {\n",
    "        \"longitude\": location[\"referencePosition\"][\"longitude\"],\n",
    "        \"latitude\": location[\"referencePosition\"][\"latitude\"],\n",
    "        \"country\": location[\"address\"][\"countryName\"],\n",
    "        \"city\": location[\"address\"][\"city\"],\n",
    "    }"
   ]
  },
  {
   "cell_type": "code",
   "execution_count": 4,
   "metadata": {},
   "outputs": [],
   "source": [
    "def get_photovoltaic_data(\n",
    "    latitude,\n",
    "    longitude,\n",
    "    start_year=None, \n",
    "    end_year=None\n",
    "):\n",
    "    \"\"\"\n",
    "    Dokumentation:\n",
    "    \"https://joint-research-centre.ec.europa.eu/pvgis-photovoltaic-geographical-information-system/getting-started-pvgis/api-non-interactive-service_en\"\n",
    "    \"\"\"\n",
    "    response = requests.get(\n",
    "        f\"https://re.jrc.ec.europa.eu/api/seriescalc?lat={latitude}&lon={longitude}&horirrad=1&outputformat=json\"\\\n",
    "        f\"{'&startyear='+str(start_year) if start_year else ''}\"\\\n",
    "        f\"{'&endyear='+str(end_year) if end_year else ''}\"\\\n",
    "    )\n",
    "    return response.json()[\"outputs\"][\"hourly\"]\n",
    "# get_photovoltaic_data(54,13)"
   ]
  },
  {
   "cell_type": "code",
   "execution_count": 7,
   "metadata": {},
   "outputs": [],
   "source": [
    "def get_data_fig(output):\n",
    "    return go.Figure(\n",
    "        data=[\n",
    "            go.Bar(x=[o[\"time\"] for o in output], y=[o[\"G(i)\"] for o in output])\n",
    "        ],\n",
    "\n",
    "        layout_title_text=\"A Figure Displaying Itself\"\n",
    "    )\n",
    "\n",
    "# {'time': '20150101:0010', 'G(i)': 0.0, 'H_sun': 0.0, 'T2m': -9.23, 'WS10m': 0.5, 'Int': 0.0}\n",
    "# G(i): Global irradiance on the inclined plane (plane of the array) (W/m2)\n",
    "# H_sun: Sun height (degree)\n",
    "# T2m: 2-m air temperature (degree Celsius)\n",
    "# WS10m: 10-m total wind speed (m/s)\n",
    "# Int: 1 means solar radiation values are reconstructed\n"
   ]
  },
  {
   "cell_type": "code",
   "execution_count": 12,
   "metadata": {},
   "outputs": [],
   "source": []
  },
  {
   "cell_type": "code",
   "execution_count": 15,
   "metadata": {},
   "outputs": [
    {
     "data": {
      "application/vnd.jupyter.widget-view+json": {
       "model_id": "cee679d14b3c4734bb2a19a5bd267a79",
       "version_major": 2,
       "version_minor": 0
      },
      "text/plain": [
       "Container(children=[Container(children=[Html(attributes={'title': 'address form'}, children=['Address'], tag='…"
      ]
     },
     "metadata": {},
     "output_type": "display_data"
    }
   ],
   "source": [
    "# Address\n",
    "address_title = v.Html(\n",
    "        tag='h1',\n",
    "        attributes={'title': 'address form'},\n",
    "        children=['Address']\n",
    "    )\n",
    "\n",
    "country = v.TextField(label=\"Land\", v_model=\"\", disabled=True)\n",
    "city = v.TextField(label=\"Stadt\", v_model=\"\", disabled=True)\n",
    "latitude = v.TextField(label=\"Latitude\", v_model=\"\", disabled=True)\n",
    "longitude = v.TextField(label=\"Longitude\", v_model=\"\", disabled=True)\n",
    "address_row = v.Row(\n",
    "    children=[\n",
    "        country,\n",
    "        city,\n",
    "        latitude,\n",
    "        longitude,\n",
    "    ]\n",
    ")\n",
    "\n",
    "search_address_input = v.TextField(label=\"Adresse\", v_model=\"\", prepend_icon=\"mdi-map-marker\")\n",
    "def get_address(widget, event, data):\n",
    "    coordinates = get_coordinates(search_address_input.v_model)\n",
    "    country.v_model = coordinates[\"country\"]\n",
    "    city.v_model = coordinates[\"city\"]\n",
    "    latitude.v_model = coordinates[\"latitude\"]\n",
    "    longitude.v_model = coordinates[\"longitude\"]\n",
    "    \n",
    "search_address_btn = v.Btn(children=[\"such\"])\n",
    "search_address_btn.on_event(\"click\", get_address)\n",
    "search_address_row=v.Row(\n",
    "    children=[\n",
    "        search_address_input, \n",
    "        search_address_btn\n",
    "    ]\n",
    ")\n",
    "\n",
    "address_container=v.Container(\n",
    "    style_='border: 1px solid black;',\n",
    "    children=[\n",
    "        v.Container(\n",
    "            style_=\"padding=5px;\",\n",
    "            children=[\n",
    "                address_title,\n",
    "                address_row,\n",
    "                search_address_input, \n",
    "        search_address_btn\n",
    "            ])\n",
    "    ]\n",
    ")\n",
    "\n",
    "address_container                \n",
    "                             \n",
    "# get photovoltaic data\n",
    "# data = get_photovoltaic_data(coordinates[\"latitude\"],coordinates[\"longitude\"])\n",
    "# data_text.v_model = (\n",
    "#     f'{data}'\n",
    "# )\n"
   ]
  },
  {
   "cell_type": "code",
   "execution_count": null,
   "metadata": {},
   "outputs": [],
   "source": []
  }
 ],
 "metadata": {
  "interpreter": {
   "hash": "26de051ba29f2982a8de78e945f0abaf191376122a1563185a90213a26c5da77"
  },
  "kernelspec": {
   "display_name": "Python 3 (ipykernel)",
   "language": "python",
   "name": "python3"
  },
  "language_info": {
   "codemirror_mode": {
    "name": "ipython",
    "version": 3
   },
   "file_extension": ".py",
   "mimetype": "text/x-python",
   "name": "python",
   "nbconvert_exporter": "python",
   "pygments_lexer": "ipython3",
   "version": "3.10.5"
  }
 },
 "nbformat": 4,
 "nbformat_minor": 4
}
