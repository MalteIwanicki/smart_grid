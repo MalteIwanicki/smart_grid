{
 "cells": [
  {
   "cell_type": "code",
   "execution_count": 1,
   "metadata": {
    "tags": []
   },
   "outputs": [],
   "source": [
    "# Setup\n",
    "# `jupyter nbextension enable --py --sys-prefix ipyvuetify`#\n",
    "# start: `voila .\\smart_grids.ipynb`\n",
    "# icons here https://vuetifyjs.com/en/features/icon-fonts/#material-design-icons\n"
   ]
  },
  {
   "cell_type": "code",
   "execution_count": 2,
   "metadata": {},
   "outputs": [],
   "source": [
    "import plotly.graph_objects as go\n",
    "import ipyvuetify as v\n"
   ]
  },
  {
   "cell_type": "code",
   "execution_count": 3,
   "metadata": {},
   "outputs": [],
   "source": [
    "def update_stepper(widget, *args):\n",
    "    stepper.v_model+=widget.direction\n",
    "    try:\n",
    "        widget.step.complete=True\n",
    "    except: \n",
    "        pass"
   ]
  },
  {
   "cell_type": "code",
   "execution_count": 4,
   "metadata": {},
   "outputs": [],
   "source": [
    "class BackBtn(v.Btn):\n",
    "    def __init__(self):\n",
    "        self.direction=-1\n",
    "        super().__init__(children=\"Back\")\n",
    "        self.on_event(\"click\",update_stepper)"
   ]
  },
  {
   "cell_type": "code",
   "execution_count": 5,
   "metadata": {},
   "outputs": [],
   "source": [
    "class NextBtn(v.Btn):\n",
    "    def __init__(self,container,step,disabled=True):\n",
    "        self.step=step\n",
    "        self.direction=1\n",
    "        self.container=container\n",
    "        container.next_btn=self\n",
    "        super().__init__(children=\"Next\")\n",
    "        self.on_event(\"click\",update_stepper)\n",
    "        self.disabled=disabled"
   ]
  },
  {
   "cell_type": "code",
   "execution_count": 6,
   "metadata": {},
   "outputs": [],
   "source": [
    "import address_widget\n",
    "address_container=address_widget.Address()\n",
    "# address_container\n",
    "address_step_number = 1\n",
    "address_step = v.StepperStep(step=address_step_number, children=[\"Address\"], complete=False)\n",
    "address_step_content = v.StepperContent(step=address_step_number,children=[address_container, NextBtn(address_container,address_step)])"
   ]
  },
  {
   "cell_type": "code",
   "execution_count": 7,
   "metadata": {},
   "outputs": [],
   "source": [
    "import battery_widget\n",
    "battery_container = battery_widget.Battery()\n",
    "# battery_container\n",
    "battery_step_number = 2\n",
    "battery_step = v.StepperStep(step=battery_step_number, children=[\"Battery\"], complete=False)\n",
    "battery_step_content = v.StepperContent(step=battery_step_number,children=[battery_container, BackBtn(), NextBtn(battery_container,battery_step)])"
   ]
  },
  {
   "cell_type": "code",
   "execution_count": 8,
   "metadata": {},
   "outputs": [],
   "source": [
    "from util.get_photovoltaic_data import get_photovoltaic_data\n",
    "\n",
    "\n",
    "def get_pv_power():\n",
    "    global pv_data\n",
    "    pv_data= [\n",
    "        {\"time\": data[\"time\"], \"PV system power\": data[\"P\"]}\n",
    "        for data in get_photovoltaic_data(\n",
    "            latitude=address_container.latitude.v_model,\n",
    "            longitude=address_container.longitude.v_model,\n",
    "            pv_tech=pv_container.pv_technology,\n",
    "            pv_peak_power=pv_container.pv_peak_power.v_model,\n",
    "            pv_loss=pv_container.pv_loss.v_model,\n",
    "            pv_angle=pv_container.pv_slope.v_model,\n",
    "            pv_azimuth=pv_container.pv_azimuth.v_model,\n",
    "        )[\"outputs\"][\"hourly\"]\n",
    "    ]"
   ]
  },
  {
   "cell_type": "code",
   "execution_count": 31,
   "metadata": {},
   "outputs": [],
   "source": [
    "# TODO do proper\n",
    "pv_data=[{\"time\":'20150101:0010',\"PV system power\":2}]\n",
    "def get_data_fig(data):\n",
    "    return go.Figure(\n",
    "        data=[go.Bar(x=[o[\"time\"] for o in data], y=[o[\"PV system power\"] for o in data])],\n",
    "        layout_title_text=\"A Figure Displaying Itself\",\n",
    "    )\n"
   ]
  },
  {
   "cell_type": "code",
   "execution_count": 32,
   "metadata": {},
   "outputs": [],
   "source": [
    "import pv_widget\n",
    "pv_container = pv_widget.Photovoltaic()\n",
    "pv_step_number = 3\n",
    "pv_step = v.StepperStep(step=pv_step_number, children=[\"Photvoltaic\"], complete=False)\n",
    "pv_next_button=NextBtn(pv_container,pv_step)\n",
    "def update_stepper_and_calculate(widget, *args):\n",
    "    stepper.v_model+=widget.direction\n",
    "    try:\n",
    "        widget.step.complete=True\n",
    "    except: \n",
    "        pass\n",
    "    get_data_fig()\n",
    "pv_next_button.on_event(\"click\", update_stepper_and_calculate)\n",
    "pv_next_button.children=[\"calculate\"]\n",
    "pv_step_content = v.StepperContent(step=pv_step_number,children=[pv_container, BackBtn(), pv_next_button])"
   ]
  },
  {
   "cell_type": "code",
   "execution_count": 33,
   "metadata": {},
   "outputs": [],
   "source": [
    "pv_power_container=v.Container(children=[\"graph here\"])\n",
    "pv_power=NextBtn(pv_container,pv_step)\n",
    "pv_power_step_number=4\n",
    "pv_power_step = v.StepperStep(step=pv_power_step_number, children=[\"Photvoltaic Power\"], complete=True)\n",
    "pv_power_step_content = v.StepperContent(step=pv_power_step_number,children=[pv_power_container, BackBtn(), NextBtn(pv_power_container,pv_power_step,disabled=False)])"
   ]
  },
  {
   "cell_type": "code",
   "execution_count": 34,
   "metadata": {},
   "outputs": [],
   "source": [
    "import consumers_widget\n",
    "consumer_container=consumers_widget.ConsumerTable()\n",
    "\n",
    "consumer_step_number = 5\n",
    "consumer_step = v.StepperStep(step=consumer_step_number, children=[\"Consumers\"], complete=False)\n",
    "consumer_step_content = v.StepperContent(step=consumer_step_number,children=[consumer_container, BackBtn(), NextBtn(consumer_container,consumer_step)])"
   ]
  },
  {
   "cell_type": "code",
   "execution_count": 40,
   "metadata": {},
   "outputs": [
    {
     "data": {
      "application/vnd.jupyter.widget-view+json": {
       "model_id": "36c6727e2a7f4620bbab8a937eacc28b",
       "version_major": 2,
       "version_minor": 0
      },
      "text/plain": [
       "Stepper(children=[StepperHeader(children=[StepperStep(children=['Address'], complete=True, step=1.0), Divider(…"
      ]
     },
     "metadata": {},
     "output_type": "display_data"
    }
   ],
   "source": [
    "\n",
    "stepper = v.Stepper(\n",
    "    v_model=1,\n",
    "    children=[\n",
    "        v.StepperHeader(\n",
    "            children=[\n",
    "                address_step,\n",
    "                v.Divider(),\n",
    "                battery_step,\n",
    "                v.Divider(),\n",
    "                pv_step,\n",
    "                v.Divider(),\n",
    "                pv_power_step,\n",
    "                v.Divider(),\n",
    "                consumer_step\n",
    "            ]\n",
    "        ),\n",
    "        v.StepperItems(\n",
    "            children=[\n",
    "                address_step_content,\n",
    "                battery_step_content,\n",
    "                pv_step_content,\n",
    "                pv_power_step_content,\n",
    "                consumer_step_content\n",
    "            ]\n",
    "        ),\n",
    "    ],\n",
    ")\n",
    "stepper\n"
   ]
  },
  {
   "cell_type": "code",
   "execution_count": null,
   "metadata": {},
   "outputs": [
    {
     "data": {
      "application/vnd.jupyter.widget-view+json": {
       "model_id": "c1894e48fefc48e3b52a066a4d512e3d",
       "version_major": 2,
       "version_minor": 0
      },
      "text/plain": [
       "Card(children=['hshj'])"
      ]
     },
     "metadata": {},
     "output_type": "display_data"
    }
   ],
   "source": [
    "v.Card(children=[\"hshj\"])"
   ]
  },
  {
   "cell_type": "code",
   "execution_count": null,
   "metadata": {},
   "outputs": [],
   "source": []
  }
 ],
 "metadata": {
  "kernelspec": {
   "display_name": "Python 3.9.12 ('smartgrid')",
   "language": "python",
   "name": "python3"
  },
  "language_info": {
   "codemirror_mode": {
    "name": "ipython",
    "version": 3
   },
   "file_extension": ".py",
   "mimetype": "text/x-python",
   "name": "python",
   "nbconvert_exporter": "python",
   "pygments_lexer": "ipython3",
   "version": "3.9.12"
  },
  "vscode": {
   "interpreter": {
    "hash": "8856f656d2556cf829173c46368834a335344dd2967b0218623e07cc8d619fca"
   }
  }
 },
 "nbformat": 4,
 "nbformat_minor": 4
}
