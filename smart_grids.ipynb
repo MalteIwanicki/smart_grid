{
 "cells": [
  {
   "cell_type": "code",
   "execution_count": 1,
   "metadata": {
    "tags": []
   },
   "outputs": [],
   "source": [
    "# Setup\n",
    "# `jupyter nbextension enable --py --sys-prefix ipyvuetify`#\n",
    "# start: `voila .\\smart_grids.ipynb`\n",
    "# icons here https://vuetifyjs.com/en/features/icon-fonts/#material-design-icons\n"
   ]
  },
  {
   "cell_type": "code",
   "execution_count": 88,
   "metadata": {},
   "outputs": [],
   "source": [
    "import plotly.graph_objects as go"
   ]
  },
  {
   "cell_type": "code",
   "execution_count": 100,
   "metadata": {},
   "outputs": [
    {
     "data": {
      "application/vnd.jupyter.widget-view+json": {
       "model_id": "76a2afb1f3ac4262a82ac6a40890d19a",
       "version_major": 2,
       "version_minor": 0
      },
      "text/plain": [
       "Address(children=[Card(children=[Row(children=[Subheader(children=['Address'])]), Row(children=[Col(children=[…"
      ]
     },
     "metadata": {},
     "output_type": "display_data"
    }
   ],
   "source": [
    "import address_widget\n",
    "address_container=address_widget.Address()\n",
    "address_container"
   ]
  },
  {
   "cell_type": "code",
   "execution_count": 99,
   "metadata": {},
   "outputs": [
    {
     "data": {
      "application/vnd.jupyter.widget-view+json": {
       "model_id": "e571b7ee0b3147ab9f1b893a8bbb8c86",
       "version_major": 2,
       "version_minor": 0
      },
      "text/plain": [
       "Battery(children=[Card(children=[Row(children=[Subheader(children=['Battery'])]), Row(children=[Col(children=[…"
      ]
     },
     "metadata": {},
     "output_type": "display_data"
    }
   ],
   "source": [
    "import battery_widget\n",
    "battery_container = battery_widget.Battery()\n",
    "battery_container"
   ]
  },
  {
   "cell_type": "code",
   "execution_count": 91,
   "metadata": {},
   "outputs": [
    {
     "data": {
      "application/vnd.jupyter.widget-view+json": {
       "model_id": "4ebc371e74a64a0da756e3cc497db7d1",
       "version_major": 2,
       "version_minor": 0
      },
      "text/plain": [
       "Photovoltaic(children=[Card(children=[Row(children=[Subheader(children=['Photovoltaic'])]), Row(children=[Col(…"
      ]
     },
     "metadata": {},
     "output_type": "display_data"
    }
   ],
   "source": [
    "import pv_widget\n",
    "pv_container = pv_widget.Photovoltaic()\n",
    "pv_container"
   ]
  },
  {
   "cell_type": "code",
   "execution_count": 103,
   "metadata": {},
   "outputs": [
    {
     "ename": "KeyError",
     "evalue": "'outputs'",
     "output_type": "error",
     "traceback": [
      "\u001b[1;31m---------------------------------------------------------------------------\u001b[0m",
      "\u001b[1;31mKeyError\u001b[0m                                  Traceback (most recent call last)",
      "\u001b[1;32m~\\AppData\\Local\\Temp\\ipykernel_12252\\334590716.py\u001b[0m in \u001b[0;36m<cell line: 2>\u001b[1;34m()\u001b[0m\n\u001b[0;32m      1\u001b[0m \u001b[1;32mfrom\u001b[0m \u001b[0mutil\u001b[0m\u001b[1;33m.\u001b[0m\u001b[0mget_photovoltaic_data\u001b[0m \u001b[1;32mimport\u001b[0m \u001b[0mget_photovoltaic_data\u001b[0m\u001b[1;33m\u001b[0m\u001b[1;33m\u001b[0m\u001b[0m\n\u001b[1;32m----> 2\u001b[1;33m \u001b[0mget_photovoltaic_data\u001b[0m\u001b[1;33m(\u001b[0m\u001b[0maddress_container\u001b[0m\u001b[1;33m.\u001b[0m\u001b[0mlatitude\u001b[0m\u001b[1;33m,\u001b[0m\u001b[0maddress_container\u001b[0m\u001b[1;33m.\u001b[0m\u001b[0mlongitude\u001b[0m\u001b[1;33m)\u001b[0m\u001b[1;33m\u001b[0m\u001b[1;33m\u001b[0m\u001b[0m\n\u001b[0m",
      "\u001b[1;32mc:\\Users\\malte\\Meine Ablage\\Studium\\01949 Smart Grids\\smart_grids\\util\\get_photovoltaic_data.py\u001b[0m in \u001b[0;36mget_photovoltaic_data\u001b[1;34m(latitude, longitude, start_year, end_year)\u001b[0m\n\u001b[0;32m     13\u001b[0m         \u001b[1;34mf\"{'&endyear='+str(end_year) if end_year else ''}\"\u001b[0m\u001b[1;33m\u001b[0m\u001b[1;33m\u001b[0m\u001b[0m\n\u001b[0;32m     14\u001b[0m     )\n\u001b[1;32m---> 15\u001b[1;33m     \u001b[1;32mreturn\u001b[0m \u001b[0mresponse\u001b[0m\u001b[1;33m.\u001b[0m\u001b[0mjson\u001b[0m\u001b[1;33m(\u001b[0m\u001b[1;33m)\u001b[0m\u001b[1;33m[\u001b[0m\u001b[1;34m\"outputs\"\u001b[0m\u001b[1;33m]\u001b[0m\u001b[1;33m[\u001b[0m\u001b[1;34m\"hourly\"\u001b[0m\u001b[1;33m]\u001b[0m\u001b[1;33m\u001b[0m\u001b[1;33m\u001b[0m\u001b[0m\n\u001b[0m",
      "\u001b[1;31mKeyError\u001b[0m: 'outputs'"
     ]
    }
   ],
   "source": [
    "from util.get_photovoltaic_data import get_photovoltaic_data\n",
    "get_photovoltaic_data(address_container.latitude,address_container.longitude)"
   ]
  },
  {
   "cell_type": "code",
   "execution_count": 101,
   "metadata": {},
   "outputs": [
    {
     "data": {
      "application/vnd.jupyter.widget-view+json": {
       "model_id": "cc3f555c1e3e4036b9fa7f5097e0020b",
       "version_major": 2,
       "version_minor": 0
      },
      "text/plain": [
       "ConsumerTable(children=[Row(children=[TextField(label='name', v_model=''), TextField(label='usage', v_model=''…"
      ]
     },
     "metadata": {},
     "output_type": "display_data"
    }
   ],
   "source": [
    "import consumers_widget\n",
    "consumer_container=consumers_widget.ConsumerTable()\n",
    "consumer_container"
   ]
  },
  {
   "cell_type": "code",
   "execution_count": null,
   "metadata": {},
   "outputs": [],
   "source": [
    "# TODO delete me\n",
    "def get_data_fig(output):\n",
    "    return go.Figure(\n",
    "        data=[go.Bar(x=[o[\"time\"] for o in output], y=[o[\"G(i)\"] for o in output])],\n",
    "        layout_title_text=\"A Figure Displaying Itself\",\n",
    "    )\n",
    "\n",
    "\n",
    "# {'time': '20150101:0010', 'G(i)': 0.0, 'H_sun': 0.0, 'T2m': -9.23, 'WS10m': 0.5, 'Int': 0.0}\n",
    "# G(i): Global irradiance on the inclined plane (plane of the array) (W/m2)\n",
    "# H_sun: Sun height (degree)\n",
    "# T2m: 2-m air temperature (degree Celsius)\n",
    "# WS10m: 10-m total wind speed (m/s)\n",
    "# Int: 1 means solar radiation values are reconstructed\n"
   ]
  }
 ],
 "metadata": {
  "interpreter": {
   "hash": "26de051ba29f2982a8de78e945f0abaf191376122a1563185a90213a26c5da77"
  },
  "kernelspec": {
   "display_name": "Python 3 (ipykernel)",
   "language": "python",
   "name": "python3"
  },
  "language_info": {
   "codemirror_mode": {
    "name": "ipython",
    "version": 3
   },
   "file_extension": ".py",
   "mimetype": "text/x-python",
   "name": "python",
   "nbconvert_exporter": "python",
   "pygments_lexer": "ipython3",
   "version": "3.10.5"
  }
 },
 "nbformat": 4,
 "nbformat_minor": 4
}
