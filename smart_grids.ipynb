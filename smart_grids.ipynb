{
 "cells": [
  {
   "cell_type": "code",
   "execution_count": 73,
   "metadata": {
    "tags": []
   },
   "outputs": [],
   "source": [
    "# Setup\n",
    "# `jupyter nbextension enable --py --sys-prefix ipyvuetify`#\n",
    "# icons here https://vuetifyjs.com/en/features/icon-fonts/#material-design-icons\n"
   ]
  },
  {
   "cell_type": "code",
   "execution_count": 74,
   "metadata": {},
   "outputs": [],
   "source": [
    "import json\n",
    "import pathlib\n",
    "\n",
    "import ipyvuetify as v\n",
    "import numpy as np\n",
    "import pandas as pd\n",
    "import plotly.graph_objects as go\n",
    "import requests\n",
    "from ipywidgets import jslink\n",
    "\n",
    "from util import get_photovoltaic_data, get_coordinates\n",
    "\n",
    "PTV_API_KEY = pathlib.Path(\"key.txt\").read_text()\n",
    "BATTERIES_FILE = \"batteries.json\"\n"
   ]
  },
  {
   "cell_type": "code",
   "execution_count": 76,
   "metadata": {},
   "outputs": [],
   "source": [
    "def get_data_fig(output):\n",
    "    return go.Figure(\n",
    "        data=[go.Bar(x=[o[\"time\"] for o in output], y=[o[\"G(i)\"] for o in output])],\n",
    "        layout_title_text=\"A Figure Displaying Itself\",\n",
    "    )\n",
    "\n",
    "\n",
    "# {'time': '20150101:0010', 'G(i)': 0.0, 'H_sun': 0.0, 'T2m': -9.23, 'WS10m': 0.5, 'Int': 0.0}\n",
    "# G(i): Global irradiance on the inclined plane (plane of the array) (W/m2)\n",
    "# H_sun: Sun height (degree)\n",
    "# T2m: 2-m air temperature (degree Celsius)\n",
    "# WS10m: 10-m total wind speed (m/s)\n",
    "# Int: 1 means solar radiation values are reconstructed\n"
   ]
  },
  {
   "cell_type": "code",
   "execution_count": 151,
   "metadata": {},
   "outputs": [
    {
     "data": {
      "application/vnd.jupyter.widget-view+json": {
       "model_id": "6a882ee344c642bf98f1a7980e257744",
       "version_major": 2,
       "version_minor": 0
      },
      "text/plain": [
       "Container(children=[Subheader(children=['Address']), TextField(label='Adresse', prepend_inner_icon='mdi-map-ma…"
      ]
     },
     "metadata": {},
     "output_type": "display_data"
    }
   ],
   "source": [
    "# Address\n",
    "address_title = v.Subheader(children=[\"Address\"])\n",
    "\n",
    "country = v.TextField(label=\"Land\", v_model=\"\", disabled=True)\n",
    "city = v.TextField(label=\"Stadt\", v_model=\"\", disabled=True)\n",
    "latitude = v.TextField(label=\"Latitude\", v_model=\"\", disabled=True)\n",
    "longitude = v.TextField(label=\"Longitude\", v_model=\"\", disabled=True)\n",
    "address_row = v.Html(\n",
    "    tag=\"div\",\n",
    "    class_=\"d-flex flex-wrap\",\n",
    "    id_=\"testetsttsü\",\n",
    "    children=[\n",
    "        country,\n",
    "        city,\n",
    "        latitude,\n",
    "        longitude,\n",
    "    ],\n",
    ")\n",
    "\n",
    "search_address_text_field = v.TextField(\n",
    "    label=\"Adresse\", v_model=\"\", prepend_inner_icon=\"mdi-map-marker\"\n",
    ")\n",
    "\n",
    "\n",
    "def get_address(widget, event, data):\n",
    "    address_card.loading = True\n",
    "    coordinates = get_coordinates.get_coordinates(PTV_API_KEY, widget.v_model)\n",
    "    country.v_model = coordinates[\"country\"]\n",
    "    city.v_model = coordinates[\"city\"]\n",
    "    latitude.v_model = coordinates[\"latitude\"]\n",
    "    longitude.v_model = coordinates[\"longitude\"]\n",
    "    address_card.loading = False\n",
    "\n",
    "\n",
    "search_address_text_field.on_event(\"change\", get_address)\n",
    "\n",
    "address_card = v.Card(\n",
    "    outlined=True,\n",
    "    tag=\"div\",\n",
    "    class_=\"d-flex flex-column\",\n",
    "    children=[\n",
    "        v.Container(\n",
    "            children=[\n",
    "                address_title,\n",
    "                search_address_text_field,\n",
    "                address_row,\n",
    "            ]\n",
    "        )\n",
    "    ],\n",
    ")\n",
    "address_card\n",
    "\n",
    "# get photovoltaic data\n",
    "# data = get_photovoltaic_data(coordinates[\"latitude\"],coordinates[\"longitude\"])\n",
    "# data_text.v_model = (\n",
    "#     f'{data}'\n",
    "# )\n"
   ]
  },
  {
   "cell_type": "code",
   "execution_count": 137,
   "metadata": {},
   "outputs": [
    {
     "data": {
      "application/vnd.jupyter.widget-view+json": {
       "model_id": "1abce896fbaf40d3a196d5dcddca0f6c",
       "version_major": 2,
       "version_minor": 0
      },
      "text/plain": [
       "Card(children=[Subheader(children=['Battery']), Select(items=['RCT Power Power Storage DC 10.0 und Power Batte…"
      ]
     },
     "metadata": {},
     "output_type": "display_data"
    }
   ],
   "source": [
    "# Battery\n",
    "battery_df = pd.read_json(BATTERIES_FILE).set_index(\"id\").sort_values(\"efficiency_rank\")\n",
    "battery_names = list(battery_df[\"name\"])\n",
    "# battery_df.head(2)\n",
    "\n",
    "battery_title = v.Subheader(children=[\"Battery\"])\n",
    "\n",
    "battery_ranking = v.TextField(label=\"Efficiency ranking\", v_model=\"\", disabled=True)\n",
    "battery_type = v.TextField(label=\"Type\", v_model=\"\", disabled=True)\n",
    "battery_capacity = v.TextField(label=\"Capacity\", v_model=\"\", disabled=True)\n",
    "battery_average_efficiency = v.TextField(\n",
    "    label=\"Average efficiency\", v_model=\"\", disabled=True\n",
    ")\n",
    "\n",
    "battery_row = v.Html(\n",
    "    tag=\"div\",\n",
    "    class_=\"d-flex flex-wrap\",\n",
    "    children=[\n",
    "        battery_ranking,\n",
    "        battery_type,\n",
    "        battery_capacity,\n",
    "        battery_average_efficiency,\n",
    "    ],\n",
    ")\n",
    "battery_select = v.Select(\n",
    "    label=\"Battery\", v_model=battery_names[0], items=battery_names\n",
    ")\n",
    "\n",
    "\n",
    "def battery_change(widget, event, data):\n",
    "    battery_card.loading = True\n",
    "    battery = battery_df.loc[battery_df[\"name\"] == widget.v_model]\n",
    "    battery_ranking.v_model = str(battery[\"efficiency_rank\"].values[0])\n",
    "    battery_type.v_model = str(battery[\"type\"].values[0])\n",
    "    battery_capacity.v_model = str(battery[\"capacity\"].values[0])\n",
    "    battery_average_efficiency.v_model = str(battery[\"average_efficiency\"].values[0])\n",
    "    battery_card.loading = False\n",
    "\n",
    "\n",
    "battery_select.on_event(\"change\", battery_change)\n",
    "\n",
    "battery_card = v.Card(\n",
    "    outlined=True,\n",
    "    tag=\"div\",\n",
    "    class_=\"d-flex flex-column\",\n",
    "    children=[\n",
    "        v.Container(\n",
    "            children=[\n",
    "                battery_title,\n",
    "                battery_select,\n",
    "                battery_row,\n",
    "            ]\n",
    "        )\n",
    "    ],\n",
    ")\n",
    "battery_card\n",
    "\n",
    "# get photovoltaic data\n",
    "# data = get_photovoltaic_data(coordinates[\"latitude\"],coordinates[\"longitude\"])\n",
    "# data_text.v_model = (\n",
    "#     f'{data}'\n",
    "# )\n"
   ]
  },
  {
   "cell_type": "code",
   "execution_count": 152,
   "metadata": {},
   "outputs": [
    {
     "data": {
      "application/vnd.jupyter.widget-view+json": {
       "model_id": "d966ceb626e14def8763b5c9e83c3fcf",
       "version_major": 2,
       "version_minor": 0
      },
      "text/plain": [
       "Card(children=[Container(children=[Subheader(children=['Photovoltaic']), TextField(label='installed peak power…"
      ]
     },
     "metadata": {},
     "output_type": "display_data"
    }
   ],
   "source": [
    "# PV\n",
    "pv_title = v.Subheader(children=[\"Photovoltaic\"])\n",
    "pv_peak_power = v.TextField(\n",
    "    label=\"installed peak power\",\n",
    "    v_model=\"0\",\n",
    "    prepend_inner_icon=\"mdi-lightning-bolt-circle\",\n",
    ")\n",
    "pv_slope = v.Slider(\n",
    "    label=\"Slope\", v_model=45, max=90, min=0, thumb_label=\"always\", prefix=\"gfhjk\"\n",
    ")\n",
    "pv_azimuth = v.Slider(\n",
    "    label=\"Azimuth\",\n",
    "    v_model=180,\n",
    "    max=359,\n",
    "    min=0,\n",
    "    thumb_label=\"always\",\n",
    ")\n",
    "\n",
    "pv_card = v.Card(\n",
    "    outlined=True,\n",
    "    tag=\"div\",\n",
    "    class_=\"d-flex flex-column\",\n",
    "    children=[\n",
    "        v.Container(\n",
    "            children=[\n",
    "                pv_title,\n",
    "                pv_peak_power,\n",
    "                pv_slope,\n",
    "                pv_azimuth,\n",
    "            ]\n",
    "        )\n",
    "    ],\n",
    ")\n",
    "pv_card\n"
   ]
  },
  {
   "cell_type": "code",
   "execution_count": null,
   "metadata": {},
   "outputs": [],
   "source": []
  }
 ],
 "metadata": {
  "interpreter": {
   "hash": "26de051ba29f2982a8de78e945f0abaf191376122a1563185a90213a26c5da77"
  },
  "kernelspec": {
   "display_name": "Python 3 (ipykernel)",
   "language": "python",
   "name": "python3"
  },
  "language_info": {
   "codemirror_mode": {
    "name": "ipython",
    "version": 3
   },
   "file_extension": ".py",
   "mimetype": "text/x-python",
   "name": "python",
   "nbconvert_exporter": "python",
   "pygments_lexer": "ipython3",
   "version": "3.10.5"
  }
 },
 "nbformat": 4,
 "nbformat_minor": 4
}
