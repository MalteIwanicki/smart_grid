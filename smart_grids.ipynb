{
 "cells": [
  {
   "cell_type": "markdown",
   "metadata": {},
   "source": [
    "# Setup\n",
    "```bash\n",
    "jupyter nbextension enable --py --sys-prefix ipyvuetify\n",
    "```"
   ]
  },
  {
   "cell_type": "code",
   "execution_count": 2,
   "metadata": {},
   "outputs": [],
   "source": [
    "import requests\n",
    "import json\n",
    "import pathlib\n",
    "\n",
    "import ipyvuetify as v\n",
    "from ipywidgets import jslink\n",
    "\n",
    "PTV_API = pathlib.Path(\"key.txt\").read_text()\n"
   ]
  },
  {
   "cell_type": "code",
   "execution_count": 91,
   "metadata": {},
   "outputs": [],
   "source": [
    "def get_coordinates(place_query):\n",
    "    response = requests.get(\n",
    "        f\"https://api.myptv.com/geocoding/v1/locations/by-text?searchText={place_query}&apiKey={PTV_API}\"\n",
    "    )\n",
    "    location = response.json()[\"locations\"][0]\n",
    "    return {\n",
    "        \"longitude\": location[\"referencePosition\"][\"longitude\"],\n",
    "        \"latitude\": location[\"referencePosition\"][\"latitude\"],\n",
    "        \"country\": location[\"address\"][\"countryName\"],\n",
    "        \"city\": location[\"address\"][\"city\"],\n",
    "    }\n"
   ]
  },
  {
   "cell_type": "code",
   "execution_count": 95,
   "metadata": {},
   "outputs": [],
   "source": [
    "def get_photovoltaic_data(latitude, longitude):\n",
    "    response = requests.get(\n",
    "        f\"https://re.jrc.ec.europa.eu/api/MRcalc?lat={latitude}&lon={longitude}&horirrad=1&outputformat=json\"\n",
    "    )\n",
    "\n",
    "    return response.json()\n"
   ]
  },
  {
   "cell_type": "code",
   "execution_count": 101,
   "metadata": {},
   "outputs": [
    {
     "data": {
      "application/vnd.jupyter.widget-view+json": {
       "model_id": "90296b717046453ca073a43da07bf420",
       "version_major": 2,
       "version_minor": 0
      },
      "text/plain": [
       "Container(children=[Row(children=[TextField(disabled=True, label='Land', v_model=''), TextField(disabled=True,…"
      ]
     },
     "metadata": {},
     "output_type": "display_data"
    }
   ],
   "source": [
    "country = v.TextField(label=\"Land\", v_model=\"\", disabled=True)\n",
    "city = v.TextField(label=\"Stadt\", v_model=\"\", disabled=True)\n",
    "latitude = v.TextField(label=\"Latitude\", v_model=\"\", disabled=True)\n",
    "longitude = v.TextField(label=\"Longitude\", v_model=\"\", disabled=True)\n",
    "coordinate_row = v.Row(\n",
    "    children=[\n",
    "        country,\n",
    "        city,\n",
    "        latitude,\n",
    "        longitude,\n",
    "    ]\n",
    ")\n",
    "adress = v.TextField(label=\"Adresse\", v_model=\"\", prepend_icon=\"mdi-map-marker\")\n",
    "\n",
    "\n",
    "def get_adress(widget, event, data):\n",
    "    coordinates = get_coordinates(adress.v_model)\n",
    "    country.v_model = coordinates[\"country\"]\n",
    "    city.v_model = coordinates[\"city\"]\n",
    "    latitude.v_model = coordinates[\"latitude\"]\n",
    "    longitude.v_model = coordinates[\"longitude\"]\n",
    "    data_text.v_model = (\n",
    "        f'{get_photovoltaic_data(coordinates[\"latitude\"],coordinates[\"longitude\"])}'\n",
    "    )\n",
    "\n",
    "\n",
    "search_adress_btn = v.Btn(children=[\"such\"])\n",
    "search_adress_btn.on_event(\"click\", get_adress)\n",
    "\n",
    "data_text = v.Textarea(v_model=\"\", disabled=True)\n",
    "v.Container(\n",
    "    children=[coordinate_row, v.Row(children=[adress, search_adress_btn]), data_text]\n",
    ")\n"
   ]
  }
 ],
 "metadata": {
  "interpreter": {
   "hash": "26de051ba29f2982a8de78e945f0abaf191376122a1563185a90213a26c5da77"
  },
  "kernelspec": {
   "display_name": "Python 3 (ipykernel)",
   "language": "python",
   "name": "python3"
  },
  "language_info": {
   "codemirror_mode": {
    "name": "ipython",
    "version": 3
   },
   "file_extension": ".py",
   "mimetype": "text/x-python",
   "name": "python",
   "nbconvert_exporter": "python",
   "pygments_lexer": "ipython3",
   "version": "3.10.5"
  }
 },
 "nbformat": 4,
 "nbformat_minor": 2
}
