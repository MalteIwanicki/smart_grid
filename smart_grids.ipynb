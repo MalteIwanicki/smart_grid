{
 "cells": [
  {
   "cell_type": "code",
   "execution_count": 1,
   "metadata": {
    "tags": []
   },
   "outputs": [],
   "source": [
    "# Setup\n",
    "# `jupyter nbextension enable --py --sys-prefix ipyvuetify`#\n",
    "# start: `voila .\\smart_grids.ipynb`\n",
    "# icons here https://vuetifyjs.com/en/features/icon-fonts/#material-design-icons\n"
   ]
  },
  {
   "cell_type": "code",
   "execution_count": 2,
   "metadata": {},
   "outputs": [],
   "source": [
    "import ipywidgets\n",
    "from matplotlib import pyplot as plt\n",
    "import numpy as np\n",
    "import ipyvuetify as v\n",
    "from util.get_photovoltaic_data import get_photovoltaic_data\n",
    "from loguru import logger\n"
   ]
  },
  {
   "cell_type": "code",
   "execution_count": 3,
   "metadata": {},
   "outputs": [],
   "source": [
    "def update_stepper(widget, *args):\n",
    "    stepper.v_model += widget.direction\n",
    "    try:\n",
    "        widget.step.complete = True\n",
    "    except:\n",
    "        pass\n"
   ]
  },
  {
   "cell_type": "code",
   "execution_count": 4,
   "metadata": {},
   "outputs": [],
   "source": [
    "class BackBtn(v.Btn):\n",
    "    def __init__(self):\n",
    "        self.direction = -1\n",
    "        super().__init__(children=\"Back\")\n",
    "        self.on_event(\"click\", update_stepper)\n"
   ]
  },
  {
   "cell_type": "code",
   "execution_count": 5,
   "metadata": {},
   "outputs": [],
   "source": [
    "class NextBtn(v.Btn):\n",
    "    def __init__(self, container, step, disabled=True):\n",
    "        self.step = step\n",
    "        self.direction = 1\n",
    "        self.container = container\n",
    "        container.next_btn = self\n",
    "        super().__init__(children=\"Next\")\n",
    "        self.on_event(\"click\", update_stepper)\n",
    "        self.disabled = disabled\n"
   ]
  },
  {
   "cell_type": "code",
   "execution_count": 6,
   "metadata": {},
   "outputs": [],
   "source": [
    "import address_widget\n",
    "\n",
    "address_container = address_widget.Address()\n",
    "# address_container\n",
    "address_step_number = 1\n",
    "address_step = v.StepperStep(\n",
    "    step=address_step_number, children=[\"Address\"], complete=False\n",
    ")\n",
    "address_step_content = v.StepperContent(\n",
    "    step=address_step_number,\n",
    "    children=[address_container, NextBtn(address_container, address_step)],\n",
    ")\n"
   ]
  },
  {
   "cell_type": "code",
   "execution_count": 7,
   "metadata": {},
   "outputs": [],
   "source": [
    "import battery_widget\n",
    "\n",
    "battery_container = battery_widget.Battery()\n",
    "# battery_container\n",
    "battery_step_number = 2\n",
    "battery_step = v.StepperStep(\n",
    "    step=battery_step_number, children=[\"Battery\"], complete=False\n",
    ")\n",
    "battery_step_content = v.StepperContent(\n",
    "    step=battery_step_number,\n",
    "    children=[battery_container, BackBtn(), NextBtn(battery_container, battery_step)],\n",
    ")\n"
   ]
  },
  {
   "cell_type": "code",
   "execution_count": 8,
   "metadata": {},
   "outputs": [],
   "source": [
    "def get_pv_data():\n",
    "    response = get_photovoltaic_data(\n",
    "        latitude=address_container.latitude.v_model,\n",
    "        longitude=address_container.longitude.v_model,\n",
    "        pv_tech=pv_container.pv_technology.v_model,\n",
    "        pv_peak_power=pv_container.pv_peak_power.v_model,\n",
    "        pv_loss=pv_container.pv_loss.v_model,\n",
    "        pv_angle=pv_container.pv_slope.v_model,\n",
    "        pv_azimuth=pv_container.pv_azimuth.v_model,\n",
    "        start_year=2016,\n",
    "        end_year=2016,\n",
    "    )\n",
    "    pv_data = [\n",
    "        {\"time\": data[\"time\"], \"PV system power\": data[\"P\"]}\n",
    "        for data in response[\"outputs\"][\"hourly\"]\n",
    "    ]\n",
    "    return pv_data\n"
   ]
  },
  {
   "cell_type": "code",
   "execution_count": 9,
   "metadata": {},
   "outputs": [],
   "source": [
    "# get_pv_data()\n",
    "\n"
   ]
  },
  {
   "cell_type": "code",
   "execution_count": 10,
   "metadata": {},
   "outputs": [],
   "source": [
    "import pv_widget\n",
    "\n",
    "pv_container = pv_widget.Photovoltaic()\n",
    "pv_step_number = 3\n",
    "pv_step = v.StepperStep(step=pv_step_number, children=[\"Photvoltaic\"], complete=False)\n",
    "pv_calc_btn = v.Btn(children=[\"calculate\"],disabled=True)\n",
    "pv_container.calc_btn=pv_calc_btn\n",
    "pv_next_button=NextBtn(pv_container, pv_step)\n",
    "\n",
    "def calculate_pv_power(widget, *args):\n",
    "    pv_container.pv_card.loading = True\n",
    "    pv_container.pv_power_data = get_pv_data()\n",
    "    pv_step.complete = True\n",
    "    pv_container.children=[pv_container.pv_card]+[pv_container.get_fig()]\n",
    "    pv_next_button.disabled=False\n",
    "\n",
    "    pv_container.pv_card.loading = False\n",
    "\n",
    "pv_calc_btn.on_event(\"click\", calculate_pv_power)\n",
    "pv_step_content = v.StepperContent(\n",
    "    step=pv_step_number, children=[pv_container, BackBtn(),pv_calc_btn, pv_next_button]\n",
    ")\n"
   ]
  },
  {
   "cell_type": "code",
   "execution_count": 11,
   "metadata": {},
   "outputs": [],
   "source": [
    "# pv_power_container = v.Container(children=[get_data_fig()])\n",
    "# pv_power_step_number = 4\n",
    "# pv_power_step = v.StepperStep(\n",
    "#     step=pv_power_step_number, children=[\"PV Power\"], complete=False\n",
    "# )\n",
    "# pv_power_step_content = v.StepperContent(\n",
    "#     step=pv_power_step_number,\n",
    "#     children=[\n",
    "#         pv_power_container,\n",
    "#         BackBtn(),\n",
    "#         NextBtn(pv_power_container, pv_power_step, disabled=False),\n",
    "#     ],\n",
    "# )\n"
   ]
  },
  {
   "cell_type": "code",
   "execution_count": 12,
   "metadata": {},
   "outputs": [],
   "source": [
    "# import consumers_widget\n",
    "\n",
    "# consumer_container = consumers_widget.ConsumerTable()\n",
    "\n",
    "# consumer_step_number = 5 # change\n",
    "# consumer_step = v.StepperStep(\n",
    "#     step=consumer_step_number, children=[\"Consumers\"], complete=False\n",
    "# )\n",
    "# consumer_step_content = v.StepperContent(\n",
    "#     step=consumer_step_number,\n",
    "#     children=[\n",
    "#         consumer_container,\n",
    "#         BackBtn(),\n",
    "#         NextBtn(consumer_container, consumer_step,disabled=False),\n",
    "#     ],\n",
    "# )\n"
   ]
  },
  {
   "cell_type": "code",
   "execution_count": 13,
   "metadata": {},
   "outputs": [],
   "source": [
    "import usage_widget\n",
    "usage_container = usage_widget.Usage()\n",
    "\n",
    "usage_step_number = 4\n",
    "usage_step = v.StepperStep(\n",
    "    step=usage_step_number, children=[\"Consumers\"], complete=False\n",
    ")\n",
    "usage_step_content = v.StepperContent(\n",
    "    step=usage_step_number,\n",
    "    children=[\n",
    "        usage_container,\n",
    "        BackBtn(),\n",
    "        NextBtn(usage_container, usage_step),\n",
    "    ],\n",
    ")"
   ]
  },
  {
   "cell_type": "code",
   "execution_count": 14,
   "metadata": {},
   "outputs": [
    {
     "data": {
      "application/vnd.jupyter.widget-view+json": {
       "model_id": "cf29fd011b3542d8bea0182259373e4c",
       "version_major": 2,
       "version_minor": 0
      },
      "text/plain": [
       "Stepper(children=[StepperHeader(children=[StepperStep(children=['Address'], complete=False, step=1.0), Divider…"
      ]
     },
     "metadata": {},
     "output_type": "display_data"
    }
   ],
   "source": [
    "stepper = v.Stepper(\n",
    "    v_model=1,\n",
    "    children=[\n",
    "        v.StepperHeader(\n",
    "            children=[\n",
    "                address_step,\n",
    "                v.Divider(),\n",
    "                battery_step,\n",
    "                v.Divider(),\n",
    "                pv_step,\n",
    "                v.Divider(),\n",
    "                usage_step\n",
    "            ]\n",
    "        ),\n",
    "        v.StepperItems(\n",
    "            children=[\n",
    "                address_step_content,\n",
    "                battery_step_content,\n",
    "                pv_step_content,\n",
    "                usage_step_content,\n",
    "            ]\n",
    "        ),\n",
    "    ],\n",
    ")\n",
    "stepper\n"
   ]
  },
  {
   "cell_type": "code",
   "execution_count": 18,
   "metadata": {},
   "outputs": [],
   "source": [
    "pv_container.children=[pv_container.pv_card]+[pv_container.get_fig()]"
   ]
  },
  {
   "cell_type": "markdown",
   "metadata": {},
   "source": []
  }
 ],
 "metadata": {
  "interpreter": {
   "hash": "767d51c1340bd893661ea55ea3124f6de3c7a262a8b4abca0554b478b1e2ff90"
  },
  "kernelspec": {
   "display_name": "Python 3.9.9 64-bit",
   "language": "python",
   "name": "python3"
  },
  "language_info": {
   "codemirror_mode": {
    "name": "ipython",
    "version": 3
   },
   "file_extension": ".py",
   "mimetype": "text/x-python",
   "name": "python",
   "nbconvert_exporter": "python",
   "pygments_lexer": "ipython3",
   "version": "3.9.9"
  },
  "vscode": {
   "interpreter": {
    "hash": "8856f656d2556cf829173c46368834a335344dd2967b0218623e07cc8d619fca"
   }
  }
 },
 "nbformat": 4,
 "nbformat_minor": 4
}
